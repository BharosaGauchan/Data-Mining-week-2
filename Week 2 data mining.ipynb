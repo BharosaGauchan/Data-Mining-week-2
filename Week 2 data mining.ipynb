{
 "cells": [
  {
   "cell_type": "code",
   "execution_count": 1,
   "id": "09e0263e",
   "metadata": {},
   "outputs": [
    {
     "name": "stdout",
     "output_type": "stream",
     "text": [
      "\n",
      "Activity: Go to a concert with local artists with some friends\n",
      "Key: 2211716\n",
      "Link: \n",
      "Participants: 3\n",
      "Price: $0.4\n",
      "Type: social\n",
      "Accessibility: 0.3\n",
      "\n"
     ]
    }
   ],
   "source": [
    "import requests\n",
    "import pandas as pd\n",
    "# random activity from bored api\n",
    "response = requests.get(\"https://www.boredapi.com/api/activity\")\n",
    "bored_simple_response = response.json()\n",
    "\n",
    "# specific key extract and get output\n",
    "key = bored_simple_response['key']\n",
    "key_url = f\"https://www.boredapi.com/api/activity?key={key}\"\n",
    "specific_key_response = requests.get(key_url)\n",
    "specific_key_response_json = specific_key_response.json()\n",
    "\n",
    "# display output\n",
    "formatted_output = f\"\"\"\n",
    "Activity: {specific_key_response_json['activity']}\n",
    "Key: {specific_key_response_json['key']}\n",
    "Link: {specific_key_response_json['link']}\n",
    "Participants: {specific_key_response_json['participants']}\n",
    "Price: ${specific_key_response_json['price']}\n",
    "Type: {specific_key_response_json['type']}\n",
    "Accessibility: {specific_key_response_json['accessibility']}\n",
    "\"\"\"\n",
    "\n",
    "print(formatted_output)"
   ]
  },
  {
   "cell_type": "code",
   "execution_count": null,
   "id": "70d94574",
   "metadata": {},
   "outputs": [],
   "source": []
  }
 ],
 "metadata": {
  "kernelspec": {
   "display_name": "Python 3 (ipykernel)",
   "language": "python",
   "name": "python3"
  },
  "language_info": {
   "codemirror_mode": {
    "name": "ipython",
    "version": 3
   },
   "file_extension": ".py",
   "mimetype": "text/x-python",
   "name": "python",
   "nbconvert_exporter": "python",
   "pygments_lexer": "ipython3",
   "version": "3.9.13"
  }
 },
 "nbformat": 4,
 "nbformat_minor": 5
}
